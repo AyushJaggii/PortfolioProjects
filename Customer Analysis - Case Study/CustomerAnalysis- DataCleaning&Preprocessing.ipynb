{
 "cells": [
  {
   "cell_type": "code",
   "execution_count": 1,
   "id": "caf78b27",
   "metadata": {},
   "outputs": [],
   "source": [
    "import pandas as pd\n",
    "from datetime import datetime"
   ]
  },
  {
   "cell_type": "code",
   "execution_count": 2,
   "id": "03778691",
   "metadata": {},
   "outputs": [],
   "source": [
    "## Datasets\n",
    "df_a = pd.read_csv(\"a.case_cust_data_mod_v1.csv\")\n",
    "df_b = pd.read_csv(\"b.case_data_sc_txn_mod_v1.csv\")"
   ]
  },
  {
   "cell_type": "code",
   "execution_count": 3,
   "id": "d974c703",
   "metadata": {},
   "outputs": [
    {
     "data": {
      "text/html": [
       "<div>\n",
       "<style scoped>\n",
       "    .dataframe tbody tr th:only-of-type {\n",
       "        vertical-align: middle;\n",
       "    }\n",
       "\n",
       "    .dataframe tbody tr th {\n",
       "        vertical-align: top;\n",
       "    }\n",
       "\n",
       "    .dataframe thead th {\n",
       "        text-align: right;\n",
       "    }\n",
       "</style>\n",
       "<table border=\"1\" class=\"dataframe\">\n",
       "  <thead>\n",
       "    <tr style=\"text-align: right;\">\n",
       "      <th></th>\n",
       "      <th>customer_unique_key</th>\n",
       "      <th>customer_salary</th>\n",
       "      <th>customer_age_year</th>\n",
       "      <th>customer_pincode</th>\n",
       "      <th>customer_city</th>\n",
       "    </tr>\n",
       "  </thead>\n",
       "  <tbody>\n",
       "    <tr>\n",
       "      <th>0</th>\n",
       "      <td>3207157596</td>\n",
       "      <td>23154.0</td>\n",
       "      <td>27</td>\n",
       "      <td>122505.0</td>\n",
       "      <td>Delhi</td>\n",
       "    </tr>\n",
       "    <tr>\n",
       "      <th>1</th>\n",
       "      <td>3114584060</td>\n",
       "      <td>88419.0</td>\n",
       "      <td>47</td>\n",
       "      <td>411048.0</td>\n",
       "      <td>Pune</td>\n",
       "    </tr>\n",
       "    <tr>\n",
       "      <th>2</th>\n",
       "      <td>3343473429</td>\n",
       "      <td>73334.0</td>\n",
       "      <td>37</td>\n",
       "      <td>500081.0</td>\n",
       "      <td>Hyderabad</td>\n",
       "    </tr>\n",
       "    <tr>\n",
       "      <th>3</th>\n",
       "      <td>2956923386</td>\n",
       "      <td>54173.0</td>\n",
       "      <td>35</td>\n",
       "      <td>411014.0</td>\n",
       "      <td>Pune</td>\n",
       "    </tr>\n",
       "    <tr>\n",
       "      <th>4</th>\n",
       "      <td>3211707503</td>\n",
       "      <td>43183.0</td>\n",
       "      <td>41</td>\n",
       "      <td>560100.0</td>\n",
       "      <td>Bengaluru</td>\n",
       "    </tr>\n",
       "    <tr>\n",
       "      <th>5</th>\n",
       "      <td>3186522561</td>\n",
       "      <td>55822.0</td>\n",
       "      <td>34</td>\n",
       "      <td>530016.0</td>\n",
       "      <td>Visakhapatnam</td>\n",
       "    </tr>\n",
       "    <tr>\n",
       "      <th>6</th>\n",
       "      <td>2733101467</td>\n",
       "      <td>67871.0</td>\n",
       "      <td>36</td>\n",
       "      <td>600037.0</td>\n",
       "      <td>Chennai</td>\n",
       "    </tr>\n",
       "    <tr>\n",
       "      <th>7</th>\n",
       "      <td>3049704097</td>\n",
       "      <td>78570.0</td>\n",
       "      <td>39</td>\n",
       "      <td>600125.0</td>\n",
       "      <td>Chennai</td>\n",
       "    </tr>\n",
       "    <tr>\n",
       "      <th>8</th>\n",
       "      <td>2524675797</td>\n",
       "      <td>81587.0</td>\n",
       "      <td>43</td>\n",
       "      <td>201305.0</td>\n",
       "      <td>Delhi</td>\n",
       "    </tr>\n",
       "    <tr>\n",
       "      <th>9</th>\n",
       "      <td>2768607070</td>\n",
       "      <td>36942.0</td>\n",
       "      <td>33</td>\n",
       "      <td>603103.0</td>\n",
       "      <td>Chennai</td>\n",
       "    </tr>\n",
       "  </tbody>\n",
       "</table>\n",
       "</div>"
      ],
      "text/plain": [
       "   customer_unique_key  customer_salary  customer_age_year  customer_pincode  \\\n",
       "0           3207157596          23154.0                 27          122505.0   \n",
       "1           3114584060          88419.0                 47          411048.0   \n",
       "2           3343473429          73334.0                 37          500081.0   \n",
       "3           2956923386          54173.0                 35          411014.0   \n",
       "4           3211707503          43183.0                 41          560100.0   \n",
       "5           3186522561          55822.0                 34          530016.0   \n",
       "6           2733101467          67871.0                 36          600037.0   \n",
       "7           3049704097          78570.0                 39          600125.0   \n",
       "8           2524675797          81587.0                 43          201305.0   \n",
       "9           2768607070          36942.0                 33          603103.0   \n",
       "\n",
       "   customer_city  \n",
       "0          Delhi  \n",
       "1           Pune  \n",
       "2      Hyderabad  \n",
       "3           Pune  \n",
       "4      Bengaluru  \n",
       "5  Visakhapatnam  \n",
       "6        Chennai  \n",
       "7        Chennai  \n",
       "8          Delhi  \n",
       "9        Chennai  "
      ]
     },
     "execution_count": 3,
     "metadata": {},
     "output_type": "execute_result"
    }
   ],
   "source": [
    "df_a.head(10)"
   ]
  },
  {
   "cell_type": "code",
   "execution_count": 4,
   "id": "f6987aac",
   "metadata": {},
   "outputs": [
    {
     "data": {
      "text/html": [
       "<div>\n",
       "<style scoped>\n",
       "    .dataframe tbody tr th:only-of-type {\n",
       "        vertical-align: middle;\n",
       "    }\n",
       "\n",
       "    .dataframe tbody tr th {\n",
       "        vertical-align: top;\n",
       "    }\n",
       "\n",
       "    .dataframe thead th {\n",
       "        text-align: right;\n",
       "    }\n",
       "</style>\n",
       "<table border=\"1\" class=\"dataframe\">\n",
       "  <thead>\n",
       "    <tr style=\"text-align: right;\">\n",
       "      <th></th>\n",
       "      <th>transaction_id</th>\n",
       "      <th>customer_unique_key</th>\n",
       "      <th>transaction_status</th>\n",
       "      <th>transaction_merchant_category</th>\n",
       "      <th>transaction_amount</th>\n",
       "      <th>transaction_date</th>\n",
       "      <th>transaction_time</th>\n",
       "    </tr>\n",
       "  </thead>\n",
       "  <tbody>\n",
       "    <tr>\n",
       "      <th>0</th>\n",
       "      <td>10512</td>\n",
       "      <td>2869834181</td>\n",
       "      <td>Fail</td>\n",
       "      <td>Shopping</td>\n",
       "      <td>8078.0</td>\n",
       "      <td>01-08-2021</td>\n",
       "      <td>11:06:14</td>\n",
       "    </tr>\n",
       "    <tr>\n",
       "      <th>1</th>\n",
       "      <td>88884</td>\n",
       "      <td>2523046473</td>\n",
       "      <td>Fail</td>\n",
       "      <td>Online Food</td>\n",
       "      <td>2138.0</td>\n",
       "      <td>01-08-2021</td>\n",
       "      <td>11:40:54</td>\n",
       "    </tr>\n",
       "    <tr>\n",
       "      <th>2</th>\n",
       "      <td>170010</td>\n",
       "      <td>2905056225</td>\n",
       "      <td>Fail</td>\n",
       "      <td>Shopping</td>\n",
       "      <td>122.0</td>\n",
       "      <td>01-08-2021</td>\n",
       "      <td>14:24:33</td>\n",
       "    </tr>\n",
       "    <tr>\n",
       "      <th>3</th>\n",
       "      <td>191864</td>\n",
       "      <td>3631953987</td>\n",
       "      <td>Fail</td>\n",
       "      <td>Shopping</td>\n",
       "      <td>288.0</td>\n",
       "      <td>01-08-2021</td>\n",
       "      <td>14:39:53</td>\n",
       "    </tr>\n",
       "    <tr>\n",
       "      <th>4</th>\n",
       "      <td>183790</td>\n",
       "      <td>2683540497</td>\n",
       "      <td>Fail</td>\n",
       "      <td>Shopping</td>\n",
       "      <td>3561.0</td>\n",
       "      <td>01-08-2021</td>\n",
       "      <td>17:31:17</td>\n",
       "    </tr>\n",
       "    <tr>\n",
       "      <th>5</th>\n",
       "      <td>393972</td>\n",
       "      <td>2533371438</td>\n",
       "      <td>Fail</td>\n",
       "      <td>Shopping</td>\n",
       "      <td>752.0</td>\n",
       "      <td>01-08-2021</td>\n",
       "      <td>18:32:27</td>\n",
       "    </tr>\n",
       "    <tr>\n",
       "      <th>6</th>\n",
       "      <td>3456701</td>\n",
       "      <td>2774842324</td>\n",
       "      <td>Success</td>\n",
       "      <td>Shopping</td>\n",
       "      <td>100000.0</td>\n",
       "      <td>01-08-2021</td>\n",
       "      <td>18:32:27</td>\n",
       "    </tr>\n",
       "    <tr>\n",
       "      <th>7</th>\n",
       "      <td>430388</td>\n",
       "      <td>3386184469</td>\n",
       "      <td>Fail</td>\n",
       "      <td>Grocery</td>\n",
       "      <td>8650.0</td>\n",
       "      <td>01-08-2021</td>\n",
       "      <td>19:24:56</td>\n",
       "    </tr>\n",
       "    <tr>\n",
       "      <th>8</th>\n",
       "      <td>691920</td>\n",
       "      <td>2361880128</td>\n",
       "      <td>Fail</td>\n",
       "      <td>Shopp$#2ing</td>\n",
       "      <td>774.0</td>\n",
       "      <td>01-08-2021</td>\n",
       "      <td>22:48:17</td>\n",
       "    </tr>\n",
       "    <tr>\n",
       "      <th>9</th>\n",
       "      <td>207945</td>\n",
       "      <td>3458379027</td>\n",
       "      <td>Fail</td>\n",
       "      <td>Grocery</td>\n",
       "      <td>2718.0</td>\n",
       "      <td>01-08-2021</td>\n",
       "      <td>23:36:30</td>\n",
       "    </tr>\n",
       "  </tbody>\n",
       "</table>\n",
       "</div>"
      ],
      "text/plain": [
       "   transaction_id  customer_unique_key transaction_status  \\\n",
       "0           10512           2869834181               Fail   \n",
       "1           88884           2523046473               Fail   \n",
       "2          170010           2905056225               Fail   \n",
       "3          191864           3631953987               Fail   \n",
       "4          183790           2683540497               Fail   \n",
       "5          393972           2533371438               Fail   \n",
       "6         3456701           2774842324            Success   \n",
       "7          430388           3386184469               Fail   \n",
       "8          691920           2361880128               Fail   \n",
       "9          207945           3458379027               Fail   \n",
       "\n",
       "  transaction_merchant_category  transaction_amount transaction_date  \\\n",
       "0                      Shopping              8078.0       01-08-2021   \n",
       "1                   Online Food              2138.0       01-08-2021   \n",
       "2                      Shopping               122.0       01-08-2021   \n",
       "3                      Shopping               288.0       01-08-2021   \n",
       "4                      Shopping              3561.0       01-08-2021   \n",
       "5                      Shopping               752.0       01-08-2021   \n",
       "6                      Shopping            100000.0       01-08-2021   \n",
       "7                       Grocery              8650.0       01-08-2021   \n",
       "8                   Shopp$#2ing               774.0       01-08-2021   \n",
       "9                       Grocery              2718.0       01-08-2021   \n",
       "\n",
       "  transaction_time  \n",
       "0         11:06:14  \n",
       "1         11:40:54  \n",
       "2         14:24:33  \n",
       "3         14:39:53  \n",
       "4         17:31:17  \n",
       "5         18:32:27  \n",
       "6         18:32:27  \n",
       "7         19:24:56  \n",
       "8         22:48:17  \n",
       "9         23:36:30  "
      ]
     },
     "execution_count": 4,
     "metadata": {},
     "output_type": "execute_result"
    }
   ],
   "source": [
    "df_b.head(10)"
   ]
  },
  {
   "cell_type": "code",
   "execution_count": null,
   "id": "5b53feda",
   "metadata": {},
   "outputs": [],
   "source": []
  },
  {
   "cell_type": "code",
   "execution_count": 5,
   "id": "716891d3",
   "metadata": {},
   "outputs": [],
   "source": [
    "## Joining both the Tables together.\n",
    "df_join = pd.merge(df_a, df_b, on='customer_unique_key')"
   ]
  },
  {
   "cell_type": "code",
   "execution_count": 6,
   "id": "78cd5880",
   "metadata": {},
   "outputs": [
    {
     "data": {
      "text/html": [
       "<div>\n",
       "<style scoped>\n",
       "    .dataframe tbody tr th:only-of-type {\n",
       "        vertical-align: middle;\n",
       "    }\n",
       "\n",
       "    .dataframe tbody tr th {\n",
       "        vertical-align: top;\n",
       "    }\n",
       "\n",
       "    .dataframe thead th {\n",
       "        text-align: right;\n",
       "    }\n",
       "</style>\n",
       "<table border=\"1\" class=\"dataframe\">\n",
       "  <thead>\n",
       "    <tr style=\"text-align: right;\">\n",
       "      <th></th>\n",
       "      <th>customer_unique_key</th>\n",
       "      <th>customer_salary</th>\n",
       "      <th>customer_age_year</th>\n",
       "      <th>customer_pincode</th>\n",
       "      <th>customer_city</th>\n",
       "      <th>transaction_id</th>\n",
       "      <th>transaction_status</th>\n",
       "      <th>transaction_merchant_category</th>\n",
       "      <th>transaction_amount</th>\n",
       "      <th>transaction_date</th>\n",
       "      <th>transaction_time</th>\n",
       "    </tr>\n",
       "  </thead>\n",
       "  <tbody>\n",
       "    <tr>\n",
       "      <th>0</th>\n",
       "      <td>3207157596</td>\n",
       "      <td>23154.0</td>\n",
       "      <td>27</td>\n",
       "      <td>122505.0</td>\n",
       "      <td>Delhi</td>\n",
       "      <td>1920621100</td>\n",
       "      <td>Success</td>\n",
       "      <td>Shopping</td>\n",
       "      <td>1309.0</td>\n",
       "      <td>28-11-2021</td>\n",
       "      <td>12:16:28</td>\n",
       "    </tr>\n",
       "    <tr>\n",
       "      <th>1</th>\n",
       "      <td>3114584060</td>\n",
       "      <td>88419.0</td>\n",
       "      <td>47</td>\n",
       "      <td>411048.0</td>\n",
       "      <td>Pune</td>\n",
       "      <td>1471654513</td>\n",
       "      <td>Success</td>\n",
       "      <td>NaN</td>\n",
       "      <td>681.0</td>\n",
       "      <td>19-08-2021</td>\n",
       "      <td>16:11:24</td>\n",
       "    </tr>\n",
       "    <tr>\n",
       "      <th>2</th>\n",
       "      <td>3114584060</td>\n",
       "      <td>88419.0</td>\n",
       "      <td>47</td>\n",
       "      <td>411048.0</td>\n",
       "      <td>Pune</td>\n",
       "      <td>371662642</td>\n",
       "      <td>Success</td>\n",
       "      <td>Shopping</td>\n",
       "      <td>2613.0</td>\n",
       "      <td>20-08-2021</td>\n",
       "      <td>10:56:10</td>\n",
       "    </tr>\n",
       "    <tr>\n",
       "      <th>3</th>\n",
       "      <td>3114584060</td>\n",
       "      <td>88419.0</td>\n",
       "      <td>47</td>\n",
       "      <td>411048.0</td>\n",
       "      <td>Pune</td>\n",
       "      <td>1152147720</td>\n",
       "      <td>Success</td>\n",
       "      <td>NaN</td>\n",
       "      <td>841.0</td>\n",
       "      <td>20-08-2021</td>\n",
       "      <td>11:45:21</td>\n",
       "    </tr>\n",
       "    <tr>\n",
       "      <th>4</th>\n",
       "      <td>3114584060</td>\n",
       "      <td>88419.0</td>\n",
       "      <td>47</td>\n",
       "      <td>411048.0</td>\n",
       "      <td>Pune</td>\n",
       "      <td>1198708556</td>\n",
       "      <td>Success</td>\n",
       "      <td>Grocery</td>\n",
       "      <td>4326.0</td>\n",
       "      <td>22-08-2021</td>\n",
       "      <td>19:03:03</td>\n",
       "    </tr>\n",
       "  </tbody>\n",
       "</table>\n",
       "</div>"
      ],
      "text/plain": [
       "   customer_unique_key  customer_salary  customer_age_year  customer_pincode  \\\n",
       "0           3207157596          23154.0                 27          122505.0   \n",
       "1           3114584060          88419.0                 47          411048.0   \n",
       "2           3114584060          88419.0                 47          411048.0   \n",
       "3           3114584060          88419.0                 47          411048.0   \n",
       "4           3114584060          88419.0                 47          411048.0   \n",
       "\n",
       "  customer_city  transaction_id transaction_status  \\\n",
       "0         Delhi      1920621100            Success   \n",
       "1          Pune      1471654513            Success   \n",
       "2          Pune       371662642            Success   \n",
       "3          Pune      1152147720            Success   \n",
       "4          Pune      1198708556            Success   \n",
       "\n",
       "  transaction_merchant_category  transaction_amount transaction_date  \\\n",
       "0                      Shopping              1309.0       28-11-2021   \n",
       "1                           NaN               681.0       19-08-2021   \n",
       "2                      Shopping              2613.0       20-08-2021   \n",
       "3                           NaN               841.0       20-08-2021   \n",
       "4                       Grocery              4326.0       22-08-2021   \n",
       "\n",
       "  transaction_time  \n",
       "0         12:16:28  \n",
       "1         16:11:24  \n",
       "2         10:56:10  \n",
       "3         11:45:21  \n",
       "4         19:03:03  "
      ]
     },
     "execution_count": 6,
     "metadata": {},
     "output_type": "execute_result"
    }
   ],
   "source": [
    "df_join.head()"
   ]
  },
  {
   "cell_type": "code",
   "execution_count": 7,
   "id": "d5a6880a",
   "metadata": {},
   "outputs": [
    {
     "name": "stdout",
     "output_type": "stream",
     "text": [
      "<class 'pandas.core.frame.DataFrame'>\n",
      "Int64Index: 160039 entries, 0 to 160038\n",
      "Data columns (total 11 columns):\n",
      " #   Column                         Non-Null Count   Dtype  \n",
      "---  ------                         --------------   -----  \n",
      " 0   customer_unique_key            160039 non-null  int64  \n",
      " 1   customer_salary                159829 non-null  float64\n",
      " 2   customer_age_year              160039 non-null  int64  \n",
      " 3   customer_pincode               159755 non-null  float64\n",
      " 4   customer_city                  160037 non-null  object \n",
      " 5   transaction_id                 160039 non-null  int64  \n",
      " 6   transaction_status             160039 non-null  object \n",
      " 7   transaction_merchant_category  158422 non-null  object \n",
      " 8   transaction_amount             160029 non-null  float64\n",
      " 9   transaction_date               160039 non-null  object \n",
      " 10  transaction_time               160039 non-null  object \n",
      "dtypes: float64(3), int64(3), object(5)\n",
      "memory usage: 14.7+ MB\n"
     ]
    }
   ],
   "source": [
    "df_join.info()"
   ]
  },
  {
   "cell_type": "code",
   "execution_count": null,
   "id": "996b3935",
   "metadata": {},
   "outputs": [],
   "source": []
  },
  {
   "cell_type": "code",
   "execution_count": null,
   "id": "f6a545c5",
   "metadata": {},
   "outputs": [],
   "source": []
  },
  {
   "cell_type": "code",
   "execution_count": 8,
   "id": "63d337b9",
   "metadata": {},
   "outputs": [
    {
     "data": {
      "text/plain": [
       "customer_unique_key                 0\n",
       "customer_salary                   210\n",
       "customer_age_year                   0\n",
       "customer_pincode                  284\n",
       "customer_city                       2\n",
       "transaction_id                      0\n",
       "transaction_status                  0\n",
       "transaction_merchant_category    1617\n",
       "transaction_amount                 10\n",
       "transaction_date                    0\n",
       "transaction_time                    0\n",
       "dtype: int64"
      ]
     },
     "execution_count": 8,
     "metadata": {},
     "output_type": "execute_result"
    }
   ],
   "source": [
    "## Checking for Null Values\n",
    "df_join.isnull().sum()"
   ]
  },
  {
   "cell_type": "code",
   "execution_count": 9,
   "id": "134000f6",
   "metadata": {},
   "outputs": [],
   "source": [
    "## Removing Null values\n",
    "df_join.dropna(how = 'any', inplace = True)"
   ]
  },
  {
   "cell_type": "code",
   "execution_count": 10,
   "id": "c64ae845",
   "metadata": {},
   "outputs": [
    {
     "data": {
      "text/plain": [
       "customer_unique_key              0\n",
       "customer_salary                  0\n",
       "customer_age_year                0\n",
       "customer_pincode                 0\n",
       "customer_city                    0\n",
       "transaction_id                   0\n",
       "transaction_status               0\n",
       "transaction_merchant_category    0\n",
       "transaction_amount               0\n",
       "transaction_date                 0\n",
       "transaction_time                 0\n",
       "dtype: int64"
      ]
     },
     "execution_count": 10,
     "metadata": {},
     "output_type": "execute_result"
    }
   ],
   "source": [
    "df_join.isnull().sum()"
   ]
  },
  {
   "cell_type": "code",
   "execution_count": 11,
   "id": "6a633ad6",
   "metadata": {},
   "outputs": [
    {
     "data": {
      "text/plain": [
       "(158126, 11)"
      ]
     },
     "execution_count": 11,
     "metadata": {},
     "output_type": "execute_result"
    }
   ],
   "source": [
    "## 1913 rows dropped.\n",
    "df_join.shape"
   ]
  },
  {
   "cell_type": "code",
   "execution_count": null,
   "id": "b6103d0e",
   "metadata": {},
   "outputs": [],
   "source": []
  },
  {
   "cell_type": "code",
   "execution_count": null,
   "id": "bb617ea4",
   "metadata": {},
   "outputs": [],
   "source": []
  },
  {
   "cell_type": "code",
   "execution_count": null,
   "id": "d7da22eb",
   "metadata": {},
   "outputs": [],
   "source": [
    "## Checking for All the unique values in categorical Columns"
   ]
  },
  {
   "cell_type": "code",
   "execution_count": 12,
   "id": "aa1b1867",
   "metadata": {},
   "outputs": [
    {
     "data": {
      "text/plain": [
       "array(['Success', 'Fail'], dtype=object)"
      ]
     },
     "execution_count": 12,
     "metadata": {},
     "output_type": "execute_result"
    }
   ],
   "source": [
    "df_join['transaction_status'].unique()"
   ]
  },
  {
   "cell_type": "code",
   "execution_count": 13,
   "id": "a9eb4543",
   "metadata": {},
   "outputs": [
    {
     "data": {
      "text/plain": [
       "array(['Shopping', 'Grocery', 'Other', 'Travel', 'Ecom', 'Fashion',\n",
       "       'Telecom', 'Misc', 'Online Food', 'EcoM', 'Shopping#$#',\n",
       "       'Shopping&%$', 'ShoppinG', 'Fashion&%$', 'Shopping$%', 'ShoPping',\n",
       "       'Fashion#$45', 'Ec&om', 'Gro%cery', 'OnlinE Food',\n",
       "       'Online Food$%7', 'EcoN', 'Gr^5ocery', 'Shop#$%ping',\n",
       "       'Shopping@24$', 'E#%com', 'Shopp$#2ing', 'Online Food#$#',\n",
       "       'Shopping#@#', 'Shopping^$%', 'Shopping12$#', 'Shopping#$5',\n",
       "       'Ecom#$#', 'Other&%$', 'Te#$lecom', 'Travel$%', 'ShOpping',\n",
       "       'Ecom$%^'], dtype=object)"
      ]
     },
     "execution_count": 13,
     "metadata": {},
     "output_type": "execute_result"
    }
   ],
   "source": [
    "df_join['transaction_merchant_category'].unique()"
   ]
  },
  {
   "cell_type": "code",
   "execution_count": 15,
   "id": "eee0cc30",
   "metadata": {},
   "outputs": [],
   "source": [
    "## using Regular Expressions to remove spelling mistakes\n",
    "import re\n",
    "def clean_category_name(category_name):\n",
    "    category_name = re.sub('[^A-Za-z]+', '', category_name)\n",
    "    if category_name.lower() == 'econ':\n",
    "        category_name = 'ecom'\n",
    "    return category_name"
   ]
  },
  {
   "cell_type": "code",
   "execution_count": 18,
   "id": "f1ed924e",
   "metadata": {},
   "outputs": [],
   "source": [
    "df_join['transaction_merchant_category'] = df_join['transaction_merchant_category'].apply(clean_category_name).str.lower()"
   ]
  },
  {
   "cell_type": "code",
   "execution_count": 19,
   "id": "b2e1e009",
   "metadata": {},
   "outputs": [
    {
     "data": {
      "text/plain": [
       "array(['shopping', 'grocery', 'other', 'travel', 'ecom', 'fashion',\n",
       "       'telecom', 'misc', 'onlinefood'], dtype=object)"
      ]
     },
     "execution_count": 19,
     "metadata": {},
     "output_type": "execute_result"
    }
   ],
   "source": [
    "df_join['transaction_merchant_category'].unique()"
   ]
  },
  {
   "cell_type": "code",
   "execution_count": null,
   "id": "f2c1049a",
   "metadata": {},
   "outputs": [],
   "source": []
  },
  {
   "cell_type": "code",
   "execution_count": null,
   "id": "ec65b0d6",
   "metadata": {},
   "outputs": [],
   "source": []
  },
  {
   "cell_type": "code",
   "execution_count": null,
   "id": "79f2a80d",
   "metadata": {},
   "outputs": [],
   "source": [
    "## Checking for invalid values such as negative age:"
   ]
  },
  {
   "cell_type": "code",
   "execution_count": 22,
   "id": "b061e6f2",
   "metadata": {},
   "outputs": [
    {
     "data": {
      "text/plain": [
       "61"
      ]
     },
     "execution_count": 22,
     "metadata": {},
     "output_type": "execute_result"
    }
   ],
   "source": [
    "(df_join['customer_age_year'] < 0).sum()"
   ]
  },
  {
   "cell_type": "code",
   "execution_count": 23,
   "id": "5b3194cf",
   "metadata": {},
   "outputs": [],
   "source": [
    "df_join = df_join[df_join['customer_age_year']>0]"
   ]
  },
  {
   "cell_type": "code",
   "execution_count": 25,
   "id": "6521ff20",
   "metadata": {},
   "outputs": [
    {
     "data": {
      "text/plain": [
       "(158061, 11)"
      ]
     },
     "execution_count": 25,
     "metadata": {},
     "output_type": "execute_result"
    }
   ],
   "source": [
    "## 61 rows dropped which had negative age.\n",
    "df_join.shape"
   ]
  },
  {
   "cell_type": "code",
   "execution_count": null,
   "id": "3df8bbf0",
   "metadata": {},
   "outputs": [],
   "source": []
  },
  {
   "cell_type": "code",
   "execution_count": null,
   "id": "b6e457de",
   "metadata": {},
   "outputs": [],
   "source": []
  },
  {
   "cell_type": "code",
   "execution_count": 26,
   "id": "668b6228",
   "metadata": {},
   "outputs": [],
   "source": [
    "df_join = df_join[df_join['customer_age_year'] < 110]"
   ]
  },
  {
   "cell_type": "code",
   "execution_count": 27,
   "id": "25669240",
   "metadata": {},
   "outputs": [
    {
     "data": {
      "text/plain": [
       "158061"
      ]
     },
     "execution_count": 27,
     "metadata": {},
     "output_type": "execute_result"
    }
   ],
   "source": [
    "(df_join['customer_age_year'] < 110).sum()"
   ]
  },
  {
   "cell_type": "code",
   "execution_count": null,
   "id": "8699cbae",
   "metadata": {},
   "outputs": [],
   "source": []
  },
  {
   "cell_type": "code",
   "execution_count": 28,
   "id": "4a423659",
   "metadata": {},
   "outputs": [
    {
     "data": {
      "text/plain": [
       "12"
      ]
     },
     "execution_count": 28,
     "metadata": {},
     "output_type": "execute_result"
    }
   ],
   "source": [
    "(df_join['transaction_amount'] < 0).sum()"
   ]
  },
  {
   "cell_type": "code",
   "execution_count": 29,
   "id": "55233016",
   "metadata": {},
   "outputs": [],
   "source": [
    "df_join = df_join[df_join['transaction_amount'] > 0]"
   ]
  },
  {
   "cell_type": "code",
   "execution_count": 30,
   "id": "0e9cbab7",
   "metadata": {},
   "outputs": [
    {
     "data": {
      "text/plain": [
       "0"
      ]
     },
     "execution_count": 30,
     "metadata": {},
     "output_type": "execute_result"
    }
   ],
   "source": [
    "(df_join['transaction_amount'] < 0).sum()"
   ]
  },
  {
   "cell_type": "code",
   "execution_count": null,
   "id": "85843064",
   "metadata": {},
   "outputs": [],
   "source": []
  },
  {
   "cell_type": "code",
   "execution_count": 31,
   "id": "452b3441",
   "metadata": {},
   "outputs": [
    {
     "data": {
      "text/plain": [
       "37"
      ]
     },
     "execution_count": 31,
     "metadata": {},
     "output_type": "execute_result"
    }
   ],
   "source": [
    "## Negative Customer Salary\n",
    "(df_join['customer_salary'] < 0).sum()"
   ]
  },
  {
   "cell_type": "code",
   "execution_count": 32,
   "id": "d654ceab",
   "metadata": {},
   "outputs": [],
   "source": [
    "df_join = df_join[df_join['customer_salary'] > 0]"
   ]
  },
  {
   "cell_type": "code",
   "execution_count": null,
   "id": "41e46c1f",
   "metadata": {},
   "outputs": [],
   "source": []
  },
  {
   "cell_type": "code",
   "execution_count": null,
   "id": "d2471b54",
   "metadata": {},
   "outputs": [],
   "source": []
  },
  {
   "cell_type": "code",
   "execution_count": 34,
   "id": "3f57ed4f",
   "metadata": {},
   "outputs": [
    {
     "data": {
      "text/html": [
       "<div>\n",
       "<style scoped>\n",
       "    .dataframe tbody tr th:only-of-type {\n",
       "        vertical-align: middle;\n",
       "    }\n",
       "\n",
       "    .dataframe tbody tr th {\n",
       "        vertical-align: top;\n",
       "    }\n",
       "\n",
       "    .dataframe thead th {\n",
       "        text-align: right;\n",
       "    }\n",
       "</style>\n",
       "<table border=\"1\" class=\"dataframe\">\n",
       "  <thead>\n",
       "    <tr style=\"text-align: right;\">\n",
       "      <th></th>\n",
       "      <th>customer_unique_key</th>\n",
       "      <th>customer_salary</th>\n",
       "      <th>customer_age_year</th>\n",
       "      <th>customer_pincode</th>\n",
       "      <th>customer_city</th>\n",
       "      <th>transaction_id</th>\n",
       "      <th>transaction_status</th>\n",
       "      <th>transaction_merchant_category</th>\n",
       "      <th>transaction_amount</th>\n",
       "      <th>transaction_date</th>\n",
       "      <th>transaction_time</th>\n",
       "    </tr>\n",
       "  </thead>\n",
       "  <tbody>\n",
       "    <tr>\n",
       "      <th>49949</th>\n",
       "      <td>2774842324</td>\n",
       "      <td>63496.0</td>\n",
       "      <td>35</td>\n",
       "      <td>625016.0</td>\n",
       "      <td>Madurai</td>\n",
       "      <td>3456701</td>\n",
       "      <td>Success</td>\n",
       "      <td>shopping</td>\n",
       "      <td>100000.0</td>\n",
       "      <td>01-08-2021</td>\n",
       "      <td>18:32:27</td>\n",
       "    </tr>\n",
       "    <tr>\n",
       "      <th>49950</th>\n",
       "      <td>2774842324</td>\n",
       "      <td>63496.0</td>\n",
       "      <td>35</td>\n",
       "      <td>625016.0</td>\n",
       "      <td>Madurai</td>\n",
       "      <td>3456701</td>\n",
       "      <td>Success</td>\n",
       "      <td>shopping</td>\n",
       "      <td>100000.0</td>\n",
       "      <td>01-08-2021</td>\n",
       "      <td>18:32:27</td>\n",
       "    </tr>\n",
       "  </tbody>\n",
       "</table>\n",
       "</div>"
      ],
      "text/plain": [
       "       customer_unique_key  customer_salary  customer_age_year  \\\n",
       "49949           2774842324          63496.0                 35   \n",
       "49950           2774842324          63496.0                 35   \n",
       "\n",
       "       customer_pincode customer_city  transaction_id transaction_status  \\\n",
       "49949          625016.0       Madurai         3456701            Success   \n",
       "49950          625016.0       Madurai         3456701            Success   \n",
       "\n",
       "      transaction_merchant_category  transaction_amount transaction_date  \\\n",
       "49949                      shopping            100000.0       01-08-2021   \n",
       "49950                      shopping            100000.0       01-08-2021   \n",
       "\n",
       "      transaction_time  \n",
       "49949         18:32:27  \n",
       "49950         18:32:27  "
      ]
     },
     "execution_count": 34,
     "metadata": {},
     "output_type": "execute_result"
    }
   ],
   "source": [
    "## Looking for duplicate rows and Dropping the duplicates\n",
    "duplicate_rows = df_join[df_join.duplicated()]\n",
    "duplicate_rows"
   ]
  },
  {
   "cell_type": "code",
   "execution_count": 35,
   "id": "7a3166a5",
   "metadata": {},
   "outputs": [],
   "source": [
    "df_join.drop_duplicates(inplace=True)"
   ]
  },
  {
   "cell_type": "code",
   "execution_count": 36,
   "id": "3691d64c",
   "metadata": {},
   "outputs": [
    {
     "data": {
      "text/html": [
       "<div>\n",
       "<style scoped>\n",
       "    .dataframe tbody tr th:only-of-type {\n",
       "        vertical-align: middle;\n",
       "    }\n",
       "\n",
       "    .dataframe tbody tr th {\n",
       "        vertical-align: top;\n",
       "    }\n",
       "\n",
       "    .dataframe thead th {\n",
       "        text-align: right;\n",
       "    }\n",
       "</style>\n",
       "<table border=\"1\" class=\"dataframe\">\n",
       "  <thead>\n",
       "    <tr style=\"text-align: right;\">\n",
       "      <th></th>\n",
       "      <th>customer_unique_key</th>\n",
       "      <th>customer_salary</th>\n",
       "      <th>customer_age_year</th>\n",
       "      <th>customer_pincode</th>\n",
       "      <th>customer_city</th>\n",
       "      <th>transaction_id</th>\n",
       "      <th>transaction_status</th>\n",
       "      <th>transaction_merchant_category</th>\n",
       "      <th>transaction_amount</th>\n",
       "      <th>transaction_date</th>\n",
       "      <th>transaction_time</th>\n",
       "    </tr>\n",
       "  </thead>\n",
       "  <tbody>\n",
       "  </tbody>\n",
       "</table>\n",
       "</div>"
      ],
      "text/plain": [
       "Empty DataFrame\n",
       "Columns: [customer_unique_key, customer_salary, customer_age_year, customer_pincode, customer_city, transaction_id, transaction_status, transaction_merchant_category, transaction_amount, transaction_date, transaction_time]\n",
       "Index: []"
      ]
     },
     "execution_count": 36,
     "metadata": {},
     "output_type": "execute_result"
    }
   ],
   "source": [
    "duplicate_rows = df_join[df_join.duplicated()]\n",
    "duplicate_rows"
   ]
  },
  {
   "cell_type": "code",
   "execution_count": null,
   "id": "bd743370",
   "metadata": {},
   "outputs": [],
   "source": []
  },
  {
   "cell_type": "code",
   "execution_count": null,
   "id": "b053cc5a",
   "metadata": {},
   "outputs": [],
   "source": []
  },
  {
   "cell_type": "code",
   "execution_count": null,
   "id": "1e2e0af8",
   "metadata": {},
   "outputs": [],
   "source": []
  },
  {
   "cell_type": "code",
   "execution_count": null,
   "id": "277adba6",
   "metadata": {},
   "outputs": [],
   "source": []
  },
  {
   "cell_type": "code",
   "execution_count": 37,
   "id": "ac5fdaf3",
   "metadata": {},
   "outputs": [],
   "source": [
    "## Removing Wrongly entered Transaction_time Entries:\n",
    "df_join['transaction_time'] = df_join['transaction_time'].str.replace('1900-01-01T', '')"
   ]
  },
  {
   "cell_type": "code",
   "execution_count": 59,
   "id": "eb5f752a",
   "metadata": {},
   "outputs": [],
   "source": [
    "df_join['transaction_date'] = pd.to_datetime(df_join['transaction_date'], format='%Y-%m-%d').dt.strftime('%Y-%m-%d)"
   ]
  },
  {
   "cell_type": "code",
   "execution_count": 41,
   "id": "e313557c",
   "metadata": {},
   "outputs": [
    {
     "data": {
      "text/html": [
       "<div>\n",
       "<style scoped>\n",
       "    .dataframe tbody tr th:only-of-type {\n",
       "        vertical-align: middle;\n",
       "    }\n",
       "\n",
       "    .dataframe tbody tr th {\n",
       "        vertical-align: top;\n",
       "    }\n",
       "\n",
       "    .dataframe thead th {\n",
       "        text-align: right;\n",
       "    }\n",
       "</style>\n",
       "<table border=\"1\" class=\"dataframe\">\n",
       "  <thead>\n",
       "    <tr style=\"text-align: right;\">\n",
       "      <th></th>\n",
       "      <th>customer_unique_key</th>\n",
       "      <th>customer_salary</th>\n",
       "      <th>customer_age_year</th>\n",
       "      <th>customer_pincode</th>\n",
       "      <th>customer_city</th>\n",
       "      <th>transaction_id</th>\n",
       "      <th>transaction_status</th>\n",
       "      <th>transaction_merchant_category</th>\n",
       "      <th>transaction_amount</th>\n",
       "      <th>transaction_date</th>\n",
       "      <th>transaction_time</th>\n",
       "    </tr>\n",
       "  </thead>\n",
       "  <tbody>\n",
       "    <tr>\n",
       "      <th>0</th>\n",
       "      <td>3207157596</td>\n",
       "      <td>23154.0</td>\n",
       "      <td>27</td>\n",
       "      <td>122505.0</td>\n",
       "      <td>Delhi</td>\n",
       "      <td>1920621100</td>\n",
       "      <td>Success</td>\n",
       "      <td>shopping</td>\n",
       "      <td>1309.0</td>\n",
       "      <td>28-11-2021</td>\n",
       "      <td>12:16:28</td>\n",
       "    </tr>\n",
       "    <tr>\n",
       "      <th>2</th>\n",
       "      <td>3114584060</td>\n",
       "      <td>88419.0</td>\n",
       "      <td>47</td>\n",
       "      <td>411048.0</td>\n",
       "      <td>Pune</td>\n",
       "      <td>371662642</td>\n",
       "      <td>Success</td>\n",
       "      <td>shopping</td>\n",
       "      <td>2613.0</td>\n",
       "      <td>20-08-2021</td>\n",
       "      <td>10:56:10</td>\n",
       "    </tr>\n",
       "    <tr>\n",
       "      <th>4</th>\n",
       "      <td>3114584060</td>\n",
       "      <td>88419.0</td>\n",
       "      <td>47</td>\n",
       "      <td>411048.0</td>\n",
       "      <td>Pune</td>\n",
       "      <td>1198708556</td>\n",
       "      <td>Success</td>\n",
       "      <td>grocery</td>\n",
       "      <td>4326.0</td>\n",
       "      <td>22-08-2021</td>\n",
       "      <td>19:03:03</td>\n",
       "    </tr>\n",
       "    <tr>\n",
       "      <th>5</th>\n",
       "      <td>3114584060</td>\n",
       "      <td>88419.0</td>\n",
       "      <td>47</td>\n",
       "      <td>411048.0</td>\n",
       "      <td>Pune</td>\n",
       "      <td>1292490882</td>\n",
       "      <td>Success</td>\n",
       "      <td>other</td>\n",
       "      <td>6176.0</td>\n",
       "      <td>13-09-2021</td>\n",
       "      <td>19:10:31</td>\n",
       "    </tr>\n",
       "    <tr>\n",
       "      <th>6</th>\n",
       "      <td>3114584060</td>\n",
       "      <td>88419.0</td>\n",
       "      <td>47</td>\n",
       "      <td>411048.0</td>\n",
       "      <td>Pune</td>\n",
       "      <td>2308969908</td>\n",
       "      <td>Success</td>\n",
       "      <td>travel</td>\n",
       "      <td>4593.0</td>\n",
       "      <td>19-09-2021</td>\n",
       "      <td>18:59:36</td>\n",
       "    </tr>\n",
       "  </tbody>\n",
       "</table>\n",
       "</div>"
      ],
      "text/plain": [
       "   customer_unique_key  customer_salary  customer_age_year  customer_pincode  \\\n",
       "0           3207157596          23154.0                 27          122505.0   \n",
       "2           3114584060          88419.0                 47          411048.0   \n",
       "4           3114584060          88419.0                 47          411048.0   \n",
       "5           3114584060          88419.0                 47          411048.0   \n",
       "6           3114584060          88419.0                 47          411048.0   \n",
       "\n",
       "  customer_city  transaction_id transaction_status  \\\n",
       "0         Delhi      1920621100            Success   \n",
       "2          Pune       371662642            Success   \n",
       "4          Pune      1198708556            Success   \n",
       "5          Pune      1292490882            Success   \n",
       "6          Pune      2308969908            Success   \n",
       "\n",
       "  transaction_merchant_category  transaction_amount transaction_date  \\\n",
       "0                      shopping              1309.0       28-11-2021   \n",
       "2                      shopping              2613.0       20-08-2021   \n",
       "4                       grocery              4326.0       22-08-2021   \n",
       "5                         other              6176.0       13-09-2021   \n",
       "6                        travel              4593.0       19-09-2021   \n",
       "\n",
       "  transaction_time  \n",
       "0         12:16:28  \n",
       "2         10:56:10  \n",
       "4         19:03:03  \n",
       "5         19:10:31  \n",
       "6         18:59:36  "
      ]
     },
     "execution_count": 41,
     "metadata": {},
     "output_type": "execute_result"
    }
   ],
   "source": [
    "df_join.head()"
   ]
  },
  {
   "cell_type": "code",
   "execution_count": null,
   "id": "20756bb0",
   "metadata": {},
   "outputs": [],
   "source": []
  },
  {
   "cell_type": "code",
   "execution_count": 60,
   "id": "336944b4",
   "metadata": {},
   "outputs": [
    {
     "name": "stdout",
     "output_type": "stream",
     "text": [
      "<class 'pandas.core.frame.DataFrame'>\n",
      "Int64Index: 157993 entries, 0 to 160038\n",
      "Data columns (total 11 columns):\n",
      " #   Column                         Non-Null Count   Dtype  \n",
      "---  ------                         --------------   -----  \n",
      " 0   customer_unique_key            157993 non-null  int64  \n",
      " 1   customer_salary                157993 non-null  float64\n",
      " 2   customer_age_year              157993 non-null  int64  \n",
      " 3   customer_pincode               157993 non-null  float64\n",
      " 4   customer_city                  157993 non-null  object \n",
      " 5   transaction_id                 157993 non-null  int64  \n",
      " 6   transaction_status             157993 non-null  object \n",
      " 7   transaction_merchant_category  157993 non-null  object \n",
      " 8   transaction_amount             157993 non-null  float64\n",
      " 9   transaction_date               157993 non-null  object \n",
      " 10  transaction_time               157993 non-null  object \n",
      "dtypes: float64(3), int64(3), object(5)\n",
      "memory usage: 14.5+ MB\n"
     ]
    }
   ],
   "source": [
    "df_join.info()"
   ]
  },
  {
   "cell_type": "code",
   "execution_count": null,
   "id": "ef6a88f9",
   "metadata": {},
   "outputs": [],
   "source": []
  },
  {
   "cell_type": "code",
   "execution_count": 61,
   "id": "f96d4ca0",
   "metadata": {},
   "outputs": [
    {
     "data": {
      "text/html": [
       "<div>\n",
       "<style scoped>\n",
       "    .dataframe tbody tr th:only-of-type {\n",
       "        vertical-align: middle;\n",
       "    }\n",
       "\n",
       "    .dataframe tbody tr th {\n",
       "        vertical-align: top;\n",
       "    }\n",
       "\n",
       "    .dataframe thead th {\n",
       "        text-align: right;\n",
       "    }\n",
       "</style>\n",
       "<table border=\"1\" class=\"dataframe\">\n",
       "  <thead>\n",
       "    <tr style=\"text-align: right;\">\n",
       "      <th></th>\n",
       "      <th>customer_unique_key</th>\n",
       "      <th>customer_salary</th>\n",
       "      <th>customer_age_year</th>\n",
       "      <th>customer_pincode</th>\n",
       "      <th>transaction_id</th>\n",
       "      <th>transaction_amount</th>\n",
       "    </tr>\n",
       "  </thead>\n",
       "  <tbody>\n",
       "    <tr>\n",
       "      <th>count</th>\n",
       "      <td>1.579930e+05</td>\n",
       "      <td>1.579930e+05</td>\n",
       "      <td>157993.000000</td>\n",
       "      <td>157993.000000</td>\n",
       "      <td>1.579930e+05</td>\n",
       "      <td>1.579930e+05</td>\n",
       "    </tr>\n",
       "    <tr>\n",
       "      <th>mean</th>\n",
       "      <td>3.016511e+09</td>\n",
       "      <td>5.908579e+04</td>\n",
       "      <td>33.247872</td>\n",
       "      <td>427376.939339</td>\n",
       "      <td>3.999905e+09</td>\n",
       "      <td>4.187634e+03</td>\n",
       "    </tr>\n",
       "    <tr>\n",
       "      <th>std</th>\n",
       "      <td>4.332035e+08</td>\n",
       "      <td>9.304361e+04</td>\n",
       "      <td>6.230305</td>\n",
       "      <td>179531.366403</td>\n",
       "      <td>3.150547e+09</td>\n",
       "      <td>7.980959e+04</td>\n",
       "    </tr>\n",
       "    <tr>\n",
       "      <th>min</th>\n",
       "      <td>2.333304e+09</td>\n",
       "      <td>3.355000e+03</td>\n",
       "      <td>21.000000</td>\n",
       "      <td>0.000000</td>\n",
       "      <td>1.051200e+04</td>\n",
       "      <td>1.000000e+00</td>\n",
       "    </tr>\n",
       "    <tr>\n",
       "      <th>25%</th>\n",
       "      <td>2.670559e+09</td>\n",
       "      <td>3.307300e+04</td>\n",
       "      <td>29.000000</td>\n",
       "      <td>302021.000000</td>\n",
       "      <td>1.455266e+09</td>\n",
       "      <td>8.850000e+02</td>\n",
       "    </tr>\n",
       "    <tr>\n",
       "      <th>50%</th>\n",
       "      <td>2.983253e+09</td>\n",
       "      <td>4.444700e+04</td>\n",
       "      <td>32.000000</td>\n",
       "      <td>500032.000000</td>\n",
       "      <td>3.183343e+09</td>\n",
       "      <td>1.517000e+03</td>\n",
       "    </tr>\n",
       "    <tr>\n",
       "      <th>75%</th>\n",
       "      <td>3.228886e+09</td>\n",
       "      <td>6.676400e+04</td>\n",
       "      <td>37.000000</td>\n",
       "      <td>560066.000000</td>\n",
       "      <td>5.934126e+09</td>\n",
       "      <td>3.529000e+03</td>\n",
       "    </tr>\n",
       "    <tr>\n",
       "      <th>max</th>\n",
       "      <td>4.112153e+09</td>\n",
       "      <td>1.117007e+07</td>\n",
       "      <td>62.000000</td>\n",
       "      <td>855107.000000</td>\n",
       "      <td>1.434174e+10</td>\n",
       "      <td>9.999999e+06</td>\n",
       "    </tr>\n",
       "  </tbody>\n",
       "</table>\n",
       "</div>"
      ],
      "text/plain": [
       "       customer_unique_key  customer_salary  customer_age_year  \\\n",
       "count         1.579930e+05     1.579930e+05      157993.000000   \n",
       "mean          3.016511e+09     5.908579e+04          33.247872   \n",
       "std           4.332035e+08     9.304361e+04           6.230305   \n",
       "min           2.333304e+09     3.355000e+03          21.000000   \n",
       "25%           2.670559e+09     3.307300e+04          29.000000   \n",
       "50%           2.983253e+09     4.444700e+04          32.000000   \n",
       "75%           3.228886e+09     6.676400e+04          37.000000   \n",
       "max           4.112153e+09     1.117007e+07          62.000000   \n",
       "\n",
       "       customer_pincode  transaction_id  transaction_amount  \n",
       "count     157993.000000    1.579930e+05        1.579930e+05  \n",
       "mean      427376.939339    3.999905e+09        4.187634e+03  \n",
       "std       179531.366403    3.150547e+09        7.980959e+04  \n",
       "min            0.000000    1.051200e+04        1.000000e+00  \n",
       "25%       302021.000000    1.455266e+09        8.850000e+02  \n",
       "50%       500032.000000    3.183343e+09        1.517000e+03  \n",
       "75%       560066.000000    5.934126e+09        3.529000e+03  \n",
       "max       855107.000000    1.434174e+10        9.999999e+06  "
      ]
     },
     "execution_count": 61,
     "metadata": {},
     "output_type": "execute_result"
    }
   ],
   "source": [
    "df_join.describe()"
   ]
  },
  {
   "cell_type": "code",
   "execution_count": null,
   "id": "d94026e6",
   "metadata": {},
   "outputs": [],
   "source": []
  },
  {
   "cell_type": "code",
   "execution_count": null,
   "id": "7cc26cce",
   "metadata": {},
   "outputs": [],
   "source": []
  },
  {
   "cell_type": "code",
   "execution_count": 52,
   "id": "8f31203e",
   "metadata": {},
   "outputs": [],
   "source": [
    "# Saving the file to an Excel File\n",
    "df_join.to_excel('Case_study_Data_Cleaned.xlsx', index=False)"
   ]
  },
  {
   "cell_type": "code",
   "execution_count": null,
   "id": "d7194817",
   "metadata": {},
   "outputs": [],
   "source": []
  },
  {
   "cell_type": "code",
   "execution_count": null,
   "id": "7aa97449",
   "metadata": {},
   "outputs": [],
   "source": []
  }
 ],
 "metadata": {
  "kernelspec": {
   "display_name": "Python 3 (ipykernel)",
   "language": "python",
   "name": "python3"
  },
  "language_info": {
   "codemirror_mode": {
    "name": "ipython",
    "version": 3
   },
   "file_extension": ".py",
   "mimetype": "text/x-python",
   "name": "python",
   "nbconvert_exporter": "python",
   "pygments_lexer": "ipython3",
   "version": "3.9.12"
  }
 },
 "nbformat": 4,
 "nbformat_minor": 5
}
